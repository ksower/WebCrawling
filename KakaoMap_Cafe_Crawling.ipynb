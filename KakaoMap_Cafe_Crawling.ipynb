{
 "cells": [
  {
   "cell_type": "markdown",
   "id": "e9ecdcee",
   "metadata": {},
   "source": [
    "# 카카오맵 크롤링\n",
    "\n",
    "search_keyword에 검색할 단어를 입력하고 실행하면 해당 검색 결과에 해당하는 장소들을 크롤링합니다.   \n",
    "결과는 result 변수.   \n",
    "(코드 자체는 '카페'정보를 가져오기 위해 작성되었습니다)"
   ]
  },
  {
   "cell_type": "code",
   "execution_count": null,
   "id": "63eabff9",
   "metadata": {},
   "outputs": [],
   "source": [
    "from selenium import webdriver\n",
    "from selenium.webdriver.common.keys import Keys\n",
    "from bs4 import BeautifulSoup\n",
    "import pandas as pd\n",
    "from time import sleep\n",
    "\n",
    "\n",
    "# 네이버 지도는 접속 시 자동으로 아래 url 뒤에 현재 위치 정보가 입력됨\n",
    "driver_path = 'C:/Users/namke/jupyter workspace/analysis project/Cafe textmining/driver/chromedriver'\n",
    "URL = 'https://map.kakao.com/'\n",
    "search_keyword = '검색어(ex. 서울 카페, 부산 카페 등)'\n",
    "\n",
    "driver = webdriver.Chrome(executable_path=driver_path)\n",
    "driver.get(URL)\n",
    "\n",
    "sleep(5)\n",
    "driver.find_element_by_class_name('DimmedLayer').click() # 배경에 레이어 하나가 떠서 이걸 지우는 코드\n",
    "\n",
    "# keyword 검색\n",
    "search = driver.find_element_by_css_selector('div.box_searchbar>input.query')\n",
    "search.send_keys(search_keyword)\n",
    "search.send_keys(Keys.ENTER)\n",
    "\n",
    "sleep(5)\n",
    "driver.find_element_by_link_text('장소 더보기').send_keys(Keys.ENTER) # div로 인한 click event 오류로 click 대신 send_keys 사용\n",
    "\n",
    "sleep(5)\n",
    "# html 가져오기\n",
    "html = driver.page_source\n",
    "soup = BeautifulSoup(html, 'html.parser')\n",
    "\n",
    "result = []\n",
    "i = 1\n",
    "while True:\n",
    "    place = soup.select('.PlaceItem')\n",
    "    for per in place:\n",
    "        name = per.select_one('.screen_out').text                                          # 장소 이름\n",
    "        href = per.select_one('.moreview')['href']                                         # 상세보기 주소\n",
    "        rate = per.select_one('.rating')\n",
    "        score = rate.select_one('.num').text                                               # 평점\n",
    "        score_cnt = rate.select_one('.numberofscore').text.replace('건', '')               # 평점 수\n",
    "        review_cnt = rate.select_one('.review').text.replace('리뷰', '').replace(' ', '')  # 리뷰 수\n",
    "        addr = per.select_one('.addr').text.replace('\\n', '')                              # 장소 주소\n",
    "        time = per.select_one('.openhour').select_one('a').text                            # 영업 시간\n",
    "        phone = per.select_one('.phone').text                                              # 전화번호\n",
    "\n",
    "        # 위 순서대로 저장(column도 동일)\n",
    "        result.append([name, href, score, score_cnt, review_cnt, addr, time, phone])\n",
    "\n",
    "    # 페이지 이동\n",
    "    if i==1 or i%5 != 1:\n",
    "        try:\n",
    "            driver.find_element_by_link_text(str(i)).click()\n",
    "        except:\n",
    "            break\n",
    "    else:\n",
    "        driver.find_element_by_css_selector('#info\\.search\\.page\\.next').click()\n",
    "    sleep(2)\n",
    "    i = i + 1\n",
    "\n",
    "# driver 종료\n",
    "driver.quit()"
   ]
  },
  {
   "cell_type": "markdown",
   "id": "9ab832e5",
   "metadata": {},
   "source": [
    "검색결과를 dataframe으로 만들어 확인합니다."
   ]
  },
  {
   "cell_type": "code",
   "execution_count": null,
   "id": "6e3a8429",
   "metadata": {
    "scrolled": true
   },
   "outputs": [],
   "source": [
    "# 크롤링 한 데이터 저장\n",
    "df = pd.DataFrame(result)\n",
    "df.columns = ['이름', '링크', '평점', '평점 수 ', '리뷰 수', '주소', '영업시간', '전화번호']\n",
    "# df.to_csv('result_crawling.csv', index=False, encoding='cp949')\n",
    "df"
   ]
  },
  {
   "cell_type": "markdown",
   "id": "3e98bedf",
   "metadata": {},
   "source": [
    "결과를 sqlite3 DB에 저장합니다."
   ]
  },
  {
   "cell_type": "code",
   "execution_count": null,
   "id": "8f4a5892",
   "metadata": {
    "scrolled": true
   },
   "outputs": [],
   "source": [
    "import sqlite3\n",
    "\n",
    "conn = sqlite3.connect('kakaomap_cafe.db')\n",
    "df.to_sql('cafe_info_table', conn, chunksize=1000)\n",
    "conn.commit()\n",
    "conn.close()"
   ]
  },
  {
   "cell_type": "markdown",
   "id": "b7055966",
   "metadata": {},
   "source": [
    "DB에 저장이 잘 되었는지 확인합니다."
   ]
  },
  {
   "cell_type": "code",
   "execution_count": null,
   "id": "ad09d6b1",
   "metadata": {},
   "outputs": [],
   "source": [
    "conn = sqlite3.connect('kakaomap_cafe.db')\n",
    "cur = conn.cursor()\n",
    "check_table = pd.read_sql('select * from cafe_info_table', conn)\n",
    " \n",
    "conn.commit()\n",
    "conn.close()\n",
    "\n",
    "check_table.drop(columns=['index'])"
   ]
  }
 ],
 "metadata": {
  "kernelspec": {
   "display_name": "Python 3 (ipykernel)",
   "language": "python",
   "name": "python3"
  },
  "language_info": {
   "codemirror_mode": {
    "name": "ipython",
    "version": 3
   },
   "file_extension": ".py",
   "mimetype": "text/x-python",
   "name": "python",
   "nbconvert_exporter": "python",
   "pygments_lexer": "ipython3",
   "version": "3.9.7"
  }
 },
 "nbformat": 4,
 "nbformat_minor": 5
}
