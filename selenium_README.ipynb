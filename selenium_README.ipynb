{
 "cells": [
  {
   "cell_type": "markdown",
   "id": "5b1a1350",
   "metadata": {},
   "source": [
    "# Selenium에 대한 사용법 정리"
   ]
  },
  {
   "cell_type": "markdown",
   "id": "b02f7ba3",
   "metadata": {},
   "source": [
    "## 설치하기"
   ]
  },
  {
   "cell_type": "code",
   "execution_count": 1,
   "id": "b4de5379",
   "metadata": {
    "scrolled": true
   },
   "outputs": [
    {
     "name": "stdout",
     "output_type": "stream",
     "text": [
      "Collecting selenium\n",
      "  Downloading selenium-4.1.0-py3-none-any.whl (958 kB)\n",
      "Collecting trio~=0.17\n",
      "  Downloading trio-0.19.0-py3-none-any.whl (356 kB)\n",
      "Collecting trio-websocket~=0.9\n",
      "  Downloading trio_websocket-0.9.2-py3-none-any.whl (16 kB)\n",
      "Requirement already satisfied: urllib3[secure]~=1.26 in c:\\programdata\\anaconda3\\lib\\site-packages (from selenium) (1.26.7)\n",
      "Requirement already satisfied: async-generator>=1.9 in c:\\programdata\\anaconda3\\lib\\site-packages (from trio~=0.17->selenium) (1.10)\n",
      "Requirement already satisfied: sortedcontainers in c:\\programdata\\anaconda3\\lib\\site-packages (from trio~=0.17->selenium) (2.4.0)\n",
      "Requirement already satisfied: attrs>=19.2.0 in c:\\programdata\\anaconda3\\lib\\site-packages (from trio~=0.17->selenium) (21.2.0)\n",
      "Requirement already satisfied: sniffio in c:\\programdata\\anaconda3\\lib\\site-packages (from trio~=0.17->selenium) (1.2.0)\n",
      "Requirement already satisfied: idna in c:\\programdata\\anaconda3\\lib\\site-packages (from trio~=0.17->selenium) (3.2)\n",
      "Collecting outcome\n",
      "  Downloading outcome-1.1.0-py2.py3-none-any.whl (9.7 kB)\n",
      "Requirement already satisfied: cffi>=1.14 in c:\\programdata\\anaconda3\\lib\\site-packages (from trio~=0.17->selenium) (1.14.6)\n",
      "Requirement already satisfied: pycparser in c:\\programdata\\anaconda3\\lib\\site-packages (from cffi>=1.14->trio~=0.17->selenium) (2.20)\n",
      "Collecting wsproto>=0.14\n",
      "  Downloading wsproto-1.0.0-py3-none-any.whl (24 kB)\n",
      "Requirement already satisfied: pyOpenSSL>=0.14 in c:\\programdata\\anaconda3\\lib\\site-packages (from urllib3[secure]~=1.26->selenium) (21.0.0)\n",
      "Requirement already satisfied: cryptography>=1.3.4 in c:\\programdata\\anaconda3\\lib\\site-packages (from urllib3[secure]~=1.26->selenium) (3.4.8)\n",
      "Requirement already satisfied: certifi in c:\\programdata\\anaconda3\\lib\\site-packages (from urllib3[secure]~=1.26->selenium) (2021.10.8)\n",
      "Requirement already satisfied: six>=1.5.2 in c:\\programdata\\anaconda3\\lib\\site-packages (from pyOpenSSL>=0.14->urllib3[secure]~=1.26->selenium) (1.16.0)\n",
      "Collecting h11<1,>=0.9.0\n",
      "  Downloading h11-0.12.0-py3-none-any.whl (54 kB)\n",
      "Installing collected packages: outcome, h11, wsproto, trio, trio-websocket, selenium\n",
      "Successfully installed h11-0.12.0 outcome-1.1.0 selenium-4.1.0 trio-0.19.0 trio-websocket-0.9.2 wsproto-1.0.0\n"
     ]
    }
   ],
   "source": [
    "!pip install selenium"
   ]
  },
  {
   "cell_type": "markdown",
   "id": "3f3ca7ba",
   "metadata": {},
   "source": [
    "## 간단한 사용 예제"
   ]
  },
  {
   "cell_type": "code",
   "execution_count": 12,
   "id": "8b0d1485",
   "metadata": {},
   "outputs": [
    {
     "name": "stderr",
     "output_type": "stream",
     "text": [
      "C:\\Users\\namke\\AppData\\Local\\Temp/ipykernel_10220/441697482.py:3: DeprecationWarning: executable_path has been deprecated, please pass in a Service object\n",
      "  driver = webdriver.Chrome(executable_path='C:/Users/namke/jupyter workspace/analysis_pjt/driver/chromedriver')\n"
     ]
    }
   ],
   "source": [
    "from selenium import webdriver\n",
    "\n",
    "URL = 'https://www.google.co.kr/'\n",
    "driver_path = 'C:/Users/namke/jupyter workspace/analysis_pjt/driver/chromedriver'\n",
    "\n",
    "driver = webdriver.Chrome(executable_path=driver_path)\n",
    "driver.get(url=URL)\n",
    "\n",
    "# 요소 찾기 - 검색창찾고 키 전송\n",
    "search = driver.find_element_by_css_selector('#query')\n",
    "search.send_keys('고슴도치')\n",
    "search.send_keys(Keys.ENTER)\n",
    "time.sleep(2)\n",
    "\n",
    "# 요소 찾기 - 지식백과에서 고슴도치 클릭\n",
    "posts = driver.find_elements_by_css_selector('a.tit')\n",
    "posts[0].click()\n",
    "time.sleep(2)"
   ]
  },
  {
   "cell_type": "markdown",
   "id": "1d7d6f30",
   "metadata": {},
   "source": [
    "## window 조작"
   ]
  },
  {
   "cell_type": "code",
   "execution_count": null,
   "id": "c69cb2e3",
   "metadata": {},
   "outputs": [],
   "source": [
    "# 페이지 가져오기(이동)\n",
    "driver.get('https://www.google.co.kr')\n",
    "\n",
    "# 이전 창으로 이동(뒤로 가기)\n",
    "driver.back()\n",
    "\n",
    "# 다음 창으로 이동하기(앞으로 가기)\n",
    "driver.forward()\n",
    "\n",
    "# 새 tab 열기\n",
    "driver.execute_script('window.open(\"https://naver.com\");')\n",
    "\n",
    "#브라우저 탭 객체를 리스트로 반환. [0] 은 인덱싱. 첫번재 탭을 의미\n",
    "driver.window_handles[0]\n",
    "driver.switch_to.window(driver.window_handles[0]) #첫번째 탭으로 이동\n",
    "driver.switch_to.window(driver.window_handles[1]) #두번째 탭으로 이동\n",
    "\n",
    "# tab 종료(닫을 tab으로 이동 후 실행)\n",
    "driver.close()\n",
    "# driver 종료\n",
    "driver.quit()"
   ]
  },
  {
   "cell_type": "markdown",
   "id": "59a3e52b",
   "metadata": {},
   "source": [
    "## element 찾기"
   ]
  },
  {
   "cell_type": "code",
   "execution_count": null,
   "id": "9107ea4b",
   "metadata": {},
   "outputs": [],
   "source": [
    "# from selenium.webdriver.common.by import By\n",
    "# driver.find_element(By.XPATH, '//button[text()=\"Some text\"]')\n",
    "# driver.find_element(By.XPATH, '//button')\n",
    "# driver.find_element(By.ID, 'loginForm')\n",
    "# driver.find_element(By.LINK_TEXT, 'Continue')\n",
    "# driver.find_element(By.PARTIAL_LINK_TEXT, 'Conti')\n",
    "# driver.find_element(By.NAME, 'username')\n",
    "# driver.find_element(By.TAG_NAME, 'h1')\n",
    "# driver.find_element(By.CLASS_NAME, 'content')\n",
    "# driver.find_element(By.CSS_SELECTOR, 'p.content')\n",
    "\n",
    "# find_element로 사용하면 위처럼 가져올 정보를 첫번째 변수로 줌(비공개 메소드)\n",
    "# 아래를 사용하면 바로 정보만 주면 된다.\n",
    "# 참고로 tag는 div, a, p 같은 html의 tag이다.\n",
    "# id, name, class는 속성이다.\n",
    "find_element_by_id('element의 아이디명')\n",
    "find_element_by_name('element의 이름')\n",
    "find_element_by_xpath('element의 xpath')\n",
    "find_element_by_link_text('link를 가진 태그의 text')\n",
    "find_element_by_partal_link_text('link를 가진 태그의 text(위와 같지만 이건 일부만으로 가능)')\n",
    "find_element_by_tag_name('element의 태그명')\n",
    "find_element_by_class_name('element의 클래스명')\n",
    "find_element_by_css_selector('css 선택자')\n",
    "\n",
    "\n",
    "# 고유한 ID를 우선적으로 사용 -> 속도가 빠름\n",
    "# css selector이 ID 다음으로 선호\n",
    "# xpath는 좋은 방법이지만 구문이 복잡하여 선호 x -> 디버깅이 힘들고 느림"
   ]
  },
  {
   "cell_type": "markdown",
   "id": "368f5bdd",
   "metadata": {},
   "source": [
    "## 입력하기"
   ]
  },
  {
   "cell_type": "code",
   "execution_count": null,
   "id": "8ec1d3d5",
   "metadata": {},
   "outputs": [],
   "source": [
    "# form 혹은 combobox에 key(input) 값을 전송\n",
    "login_input = driver.find_element_by_css_selector(\"#loginId\")\n",
    "login_input.send_keys(\"user\", \"email\")\n",
    "# key값 삭제\n",
    "login_input.clear()\n",
    "# enter 등 키보드의 입력은 Keys.Enter 형식으로 입력\n",
    "from Selenium.webdriver.common.keys import Keys\n",
    "login_input.send_keys(Keys.ENTER)\n",
    "\n",
    "# 버튼에 대한 css 선택자 정보로 버튼 클릭\n",
    "login_btn = driver.find_element_by_css_selector(\"#authForm > button\")\n",
    "login_btn.click()\n",
    "\n",
    "# element에 대해 print를 하면 하위 element도 포함한 전체 텍스트를 return\n",
    "fields = driver.find_element_by_css_selector(\"#authForm > fieldset\")\n",
    "print(fields.text)"
   ]
  },
  {
   "cell_type": "markdown",
   "id": "71a0c8ac",
   "metadata": {},
   "source": [
    "## 캡쳐하기"
   ]
  },
  {
   "cell_type": "code",
   "execution_count": null,
   "id": "76e42b8c",
   "metadata": {},
   "outputs": [],
   "source": [
    "#캡쳐할 엘레먼트 지정\n",
    "element = driver.driver.find_element_by_class_name('ico.search_submit')\n",
    "\n",
    "#캡쳐\n",
    "element.save_screenshot('image.png')"
   ]
  },
  {
   "cell_type": "markdown",
   "id": "279cc400",
   "metadata": {},
   "source": [
    "## background로 실행"
   ]
  },
  {
   "cell_type": "code",
   "execution_count": null,
   "id": "477ea0a8",
   "metadata": {},
   "outputs": [],
   "source": [
    "# background에서 크롤링이 가능\n",
    "# 이때 옵션을 driver 실행 전에 추가해주어야 한다\n",
    "# background로 돌릴 시 작업 종료 시 quit()로 반드시 driver를 종료해야 한다\n",
    "# 리소스를 잡아먹기 때문\n",
    "\n",
    "# 크롤링 옵션 생성\n",
    "options = webdriver.ChromeOptions()\n",
    "\n",
    "# 백그라운드 실행 옵션 추가\n",
    "options.add_argument(\"headless\")"
   ]
  },
  {
   "cell_type": "markdown",
   "id": "91c228eb",
   "metadata": {},
   "source": [
    "## 경고창 처리"
   ]
  },
  {
   "cell_type": "code",
   "execution_count": null,
   "id": "4e908e16",
   "metadata": {},
   "outputs": [],
   "source": [
    "from selenium.webdriver.common.alert import Alert\n",
    "\n",
    "#경고창으로 이동\n",
    "driver.switch_to.alert\n",
    "\n",
    "Alert(driver).accept()    #경고창 수락 누름\n",
    "Alert(driver).dismiss()   #경고창 거절 누름\n",
    "print(Alert(driver).text  # 경고창 텍스트 얻음"
   ]
  },
  {
   "cell_type": "markdown",
   "id": "fc0c76a8",
   "metadata": {},
   "source": [
    "## scroll down 처리"
   ]
  },
  {
   "cell_type": "code",
   "execution_count": null,
   "id": "56f75ede",
   "metadata": {},
   "outputs": [],
   "source": [
    "# scroll을 Y height만큼 down\n",
    "driver.execute_script(\"window.scrollTo(0, Y)\")\n",
    "\n",
    "#지속적으로 scroll down하여 모든 데이터를 조회할 때\n",
    "\n",
    "# 방법 1(대기시간)\n",
    "SCROLL_PAUSE_SEC = 1\n",
    "# 스크롤 높이 가져옴\n",
    "last_height = driver.execute_script(\"return document.body.scrollHeight\")\n",
    "while True:\n",
    "    # 끝까지 스크롤 다운\n",
    "    driver.execute_script(\"window.scrollTo(0, document.body.scrollHeight);\")\n",
    "    # 1초 대기\n",
    "    time.sleep(SCROLL_PAUSE_SEC)\n",
    "    # 스크롤 다운 후 스크롤 높이 다시 가져옴\n",
    "    new_height = driver.execute_script(\"return document.body.scrollHeight\")\n",
    "    if new_height == last_height:\n",
    "        break\n",
    "    last_height = new_height\n",
    "    \n",
    "# 방법 2(특정 element까지)\n",
    "# ActionChains 를 사용하기 위해서.\n",
    "from selenium.webdriver import ActionChains\n",
    "# id가 something 인 element 를 찾음\n",
    "some_tag = driver.find_element_by_id('something')\n",
    "# somthing element 까지 스크롤\n",
    "action = ActionChains(driver)\n",
    "action.move_to_element(some_tag).perform()\n",
    "\n",
    "# 방법 3(특정 시간 동안 지속)\n",
    "import datetime\n",
    "def doScrollDown(whileSeconds):\n",
    "    start = datetime.datetime.now()\n",
    "    end = start + datetime.timedelta(seconds=whileSeconds)\n",
    "    while True:\n",
    "        driver.execute_script('window.scrollTo(0, document.body.scrollHeight);')\n",
    "        time.sleep(1)\n",
    "        if datetime.datetime.now() > end:\n",
    "            break"
   ]
  }
 ],
 "metadata": {
  "kernelspec": {
   "display_name": "Python 3 (ipykernel)",
   "language": "python",
   "name": "python3"
  },
  "language_info": {
   "codemirror_mode": {
    "name": "ipython",
    "version": 3
   },
   "file_extension": ".py",
   "mimetype": "text/x-python",
   "name": "python",
   "nbconvert_exporter": "python",
   "pygments_lexer": "ipython3",
   "version": "3.9.7"
  }
 },
 "nbformat": 4,
 "nbformat_minor": 5
}
