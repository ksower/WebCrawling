{
 "cells": [
  {
   "cell_type": "markdown",
   "id": "c709a3d8",
   "metadata": {},
   "source": [
    "# 네이버 지도 크롤링\n",
    "\n",
    "검색어에 따른 장소에 대한 정보를 크롤링하는 코드입니다.   \n",
    "장소의 이름, 전화번호, 주소, 평점, 리뷰정보에 대해 크롤링합니다.   \n",
    "장소에 대한 간단한 정보들을 담은 data, 리뷰에 대한 정보들을 담은 data, 블로그 주소에 대한 data를 가져옵니다.   \n",
    "(현재 코드는 '카페'정보를 가져오기 위해 작성되었습니다)"
   ]
  },
  {
   "cell_type": "code",
   "execution_count": null,
   "id": "73dd33e8",
   "metadata": {
    "scrolled": true
   },
   "outputs": [],
   "source": [
    "from selenium import webdriver\n",
    "from selenium.webdriver.common.keys import Keys\n",
    "import time\n",
    "import datetime\n",
    "\n",
    "# 특정 div scroll down function\n",
    "def doScrollDown(whileSeconds):\n",
    "    start = datetime.datetime.now()\n",
    "    end = start + datetime.timedelta(seconds=whileSeconds)\n",
    "    cont = driver.find_element_by_id('_pcmap_list_scroll_container')\n",
    "    \n",
    "    while True:\n",
    "        driver.execute_script(\"arguments[0].scrollBy(0, 10000)\", cont)\n",
    "        time.sleep(1)\n",
    "        if datetime.datetime.now() > end:\n",
    "            break\n",
    "\n",
    "\n",
    "# 네이버 지도는 접속 시 자동으로 아래 url 뒤에 현재 위치 정보가 입력됨\n",
    "driver_path = './driver/chromedriver'\n",
    "URL = 'https://map.naver.com/v5/'\n",
    "search_keyword = '카페'\n",
    "\n",
    "driver = webdriver.Chrome(executable_path=driver_path)\n",
    "driver.get(URL)\n",
    "\n",
    "time.sleep(5)\n",
    "\n",
    "# keyword 검색\n",
    "search = driver.find_element_by_css_selector('div.input_box>input.input_search')\n",
    "search.send_keys(search_keyword)\n",
    "search.send_keys(Keys.ENTER)\n",
    "\n",
    "time.sleep(3)\n",
    "\n",
    "# frame 전환\n",
    "search_frame = driver.find_element_by_id('searchIframe')\n",
    "driver.switch_to.frame(search_frame)\n",
    "doScrollDown(5)\n",
    "\n",
    "\n",
    "# 탐색은 페이지 별로 진행합니다.\n",
    "search_simple_result = []\n",
    "search_review_result = []\n",
    "search_blog_url_result = []\n",
    "cur_page = 1\n",
    "while True:\n",
    "    places = driver.find_elements_by_class_name('_3nCBm')\n",
    "    for pl in places:\n",
    "        # 검색할 장소가 있다면 상세페이지를 엽니다.\n",
    "        try:\n",
    "            pl.click()\n",
    "        except:\n",
    "            continue\n",
    "        time.sleep(3)\n",
    "\n",
    "        # 장소 상세정보 frame으로 전환\n",
    "        driver.switch_to.default_content()\n",
    "        entry_frame = driver.find_element_by_id('entryIframe')\n",
    "        driver.switch_to.frame(entry_frame)\n",
    "\n",
    "\n",
    "        # 장소의 기본정보\n",
    "        # {이름:name , 전화번호:number , 주소:addr , 평점:score , 방문자수:cnt_visitor , 블로그수:cnt_blog}\n",
    "        name = driver.find_element_by_class_name('_3XamX').text\n",
    "        try:\n",
    "            number = driver.find_element_by_class_name('_3ZA0S').text\n",
    "        except:\n",
    "            number = 'none'\n",
    "        addr = driver.find_element_by_class_name('_2yqUQ').text\n",
    "        try:\n",
    "            score = driver.find_element_by_xpath('//*[@id=\"app-root\"]/div/div/div[2]/div[1]/div/div/div[1]/div/span[1]/em').text\n",
    "        except:\n",
    "            score = 0\n",
    "        try:\n",
    "            cnt_visitor = driver.find_element_by_xpath('//*[@id=\"app-root\"]/div/div/div[2]/div[1]/div/div/div[1]/div/span[2]/a/em').text\n",
    "        except:\n",
    "            cnt_visitor = 0\n",
    "        try:\n",
    "            cnt_blog = driver.find_element_by_xpath('//*[@id=\"app-root\"]/div/div/div[2]/div[1]/div/div/div[1]/div/span[3]/a/em').text\n",
    "        except:\n",
    "            cnt_blog = 0\n",
    "\n",
    "\n",
    "        # 방문자 리뷰정보 [review_info]\n",
    "        if cnt_visitor != 0:\n",
    "            driver.find_elements_by_class_name('_2RG_o')[-2].click()\n",
    "            time.sleep(3)\n",
    "            # 모든 리뷰정보를 로드합니다.\n",
    "            while True:\n",
    "                try:\n",
    "                    driver.find_element_by_link_text('더보기').click()\n",
    "                    time.sleep(1)\n",
    "                except:\n",
    "                    break\n",
    "            while True:\n",
    "                try:\n",
    "                    driver.find_element_by_class_name('_2vy4Q').click()\n",
    "                    time.sleep(1)\n",
    "                except:\n",
    "                    break\n",
    "            # 모든 리뷰글 정보들을 가져옵니다.\n",
    "            review_text = driver.find_elements_by_class_name('_3vfQ6')\n",
    "            for per in review_text:\n",
    "                search_review_result.append([name, per.text])\n",
    "\n",
    "\n",
    "        # 블로그 리뷰정보 [blog_url]\n",
    "        if cnt_blog != 0:\n",
    "            driver.find_elements_by_class_name('_3Q5_9')[-1].click()\n",
    "            time.sleep(3)\n",
    "            # 모든 리뷰정보를 로드합니다.\n",
    "            while True:\n",
    "                try:\n",
    "                    driver.find_element_by_link_text('더보기').click()\n",
    "                    time.sleep(1)\n",
    "                except:\n",
    "                    break\n",
    "            # 모든 리뷰 블로그 url들을 가져옵니다.\n",
    "            review_url = driver.find_elements_by_class_name('awH2_')\n",
    "            for per in review_url:\n",
    "                search_blog_url_result.append([name, per.find_element_by_tag_name('a').get_attribute('href')])\n",
    "\n",
    "\n",
    "        # 현재 장소에 대한 정보 저장\n",
    "        search_simple_result.append([name, number, addr, score, cnt_visitor, cnt_blog])\n",
    "        # 정보 저장 후 검색 프레임으로 이동\n",
    "        driver.switch_to.default_content()\n",
    "        search_frame = driver.find_element_by_id('searchIframe')\n",
    "        driver.switch_to.frame(search_frame)\n",
    "    \n",
    "    \n",
    "    # 다음 페이지가 존재한다면 이어서 탐색합니다.\n",
    "    cur_page = cur_page + 1\n",
    "    print('check', cur_page)\n",
    "    page_div = driver.find_element_by_class_name('_2ky45')\n",
    "    try:\n",
    "        page_div.find_element_by_link_text(str(cur_page)).click()\n",
    "    except:\n",
    "        break\n",
    "    time.sleep(3)\n",
    "    \n",
    "    \n",
    "# 검색 결과 모두 조회\n",
    "# result_container = driver.find_element_by_id('_pcmap_list_scroll_container')\n",
    "# result_container\n",
    "# 각 url내에서 데이터 크롤링 진행\n",
    "# 혹은 검색 결과창에서 그대로 크롤링\n",
    "\n",
    "# 크롤링 한 데이터 저장\n",
    "\n",
    "# driver 종료\n",
    "driver.quit()"
   ]
  },
  {
   "cell_type": "markdown",
   "id": "2b1c292e",
   "metadata": {},
   "source": [
    "정상적으로 크롤링 되었는지 가져온 데이터들을 확인합니다."
   ]
  },
  {
   "cell_type": "code",
   "execution_count": null,
   "id": "0e1d89a2",
   "metadata": {},
   "outputs": [],
   "source": [
    "print(len(search_simple_result))\n",
    "print(search_simple_result)"
   ]
  },
  {
   "cell_type": "code",
   "execution_count": null,
   "id": "1da67d6b",
   "metadata": {},
   "outputs": [],
   "source": [
    "print(len(search_review_result))\n",
    "print(search_review_result)"
   ]
  },
  {
   "cell_type": "code",
   "execution_count": null,
   "id": "0d51dddf",
   "metadata": {},
   "outputs": [],
   "source": [
    "print(len(search_blog_url_result))\n",
    "print(search_blog_url_result)"
   ]
  },
  {
   "cell_type": "markdown",
   "id": "17cd031b",
   "metadata": {},
   "source": [
    "DB에 저장하기 전 리뷰 데이터에서 이모지들을 제거합니다."
   ]
  },
  {
   "cell_type": "code",
   "execution_count": null,
   "id": "bbdef4e4",
   "metadata": {},
   "outputs": [],
   "source": [
    "for i in range(len(search_review_result)):\n",
    "    search_review_result[i][1] = search_review_result[i][1].encode('cp949', 'ignore').decode('cp949')"
   ]
  },
  {
   "cell_type": "markdown",
   "id": "838ce0b5",
   "metadata": {},
   "source": [
    "# 데이터 저장\n",
    "\n",
    "sqlite3를 이용해 크롤링한 데이터들을 저장합니다.   \n",
    "- simple_info_table : 장소에 대한 간단한 정보들\n",
    "- review_info_table :리뷰에 대한 정보들\n",
    "- blog_url_table : 블로그 링크에 대한 정보들"
   ]
  },
  {
   "cell_type": "code",
   "execution_count": null,
   "id": "d81636fd",
   "metadata": {},
   "outputs": [],
   "source": [
    "import pandas as pd\n",
    "import sqlite3\n",
    "\n",
    "simple_result = pd.DataFrame(search_simple_result)\n",
    "simple_result.columns = ['이름', '전화번호', '주소', '평점', '방문자수', '블로그리뷰수']\n",
    "\n",
    "review_result = pd.DataFrame(search_review_result)\n",
    "review_result.columns = ['이름', '리뷰']\n",
    "\n",
    "blog_url_result = pd.DataFrame(search_blog_url_result)\n",
    "blog_url_result.columns = ['이름', 'URL']\n",
    "\n",
    "\n",
    "conn = sqlite3.connect('./navermap_search_result.db')\n",
    "simple_result.to_sql('simple_info_table', conn, chunksize=1000)\n",
    "review_result.to_sql('review_info_table', conn, chunksize=1000)\n",
    "blog_url_result.to_sql('blog_url_table', conn, chunksize=1000)\n",
    "conn.commit()\n",
    "conn.close()"
   ]
  },
  {
   "cell_type": "markdown",
   "id": "dcfc78b3",
   "metadata": {},
   "source": [
    "저장이 잘 되었는지 쿼리문을 통해 확인합니다."
   ]
  },
  {
   "cell_type": "code",
   "execution_count": null,
   "id": "89168c1c",
   "metadata": {},
   "outputs": [],
   "source": [
    "conn = sqlite3.connect('navermap_search_result.db')\n",
    "simple = pd.read_sql('select * from simple_info_table', conn)\n",
    "review = pd.read_sql('select * from review_info_table', conn)\n",
    "blog_url = pd.read_sql('select * from blog_url_table', conn)\n",
    "conn.commit()\n",
    "conn.close()"
   ]
  },
  {
   "cell_type": "code",
   "execution_count": null,
   "id": "b6d0dbe1",
   "metadata": {
    "scrolled": true
   },
   "outputs": [],
   "source": [
    "simple"
   ]
  },
  {
   "cell_type": "code",
   "execution_count": null,
   "id": "72b77d63",
   "metadata": {},
   "outputs": [],
   "source": [
    "review"
   ]
  },
  {
   "cell_type": "code",
   "execution_count": null,
   "id": "c39c9049",
   "metadata": {},
   "outputs": [],
   "source": [
    "blog_url"
   ]
  },
  {
   "cell_type": "markdown",
   "id": "709258b4",
   "metadata": {},
   "source": [
    "# 블로그 리뷰 크롤링\n",
    "\n",
    "앞서 크롤링한 블로그 링크 정보들을 이용해 블로그 리뷰 데이터들을 가져옵니다."
   ]
  },
  {
   "cell_type": "code",
   "execution_count": null,
   "id": "f2be05e8",
   "metadata": {},
   "outputs": [],
   "source": [
    "import pandas as pd\n",
    "import sqlite3\n",
    "\n",
    "# DB에서 블로그 링크 정보를 가져옵니다.\n",
    "conn = sqlite3.connect('./navermap_search_result.db')\n",
    "blog_url = pd.read_sql('select * from blog_url_table', conn)\n",
    "conn.commit()\n",
    "conn.close()\n",
    "\n",
    "blog_url"
   ]
  },
  {
   "cell_type": "code",
   "execution_count": null,
   "id": "32062ef8",
   "metadata": {},
   "outputs": [],
   "source": [
    "print(len(blog_url))\n",
    "\n",
    "for i in range(len(blog_url)):\n",
    "    if 'blog' in blog_url.loc[i][2]:\n",
    "        a = 1\n",
    "    elif 'cafe' in blog_url.loc[i][2]:\n",
    "        print(blog_url.loc[i][2])\n",
    "    else:\n",
    "        print(blog_url.loc[i][2])"
   ]
  },
  {
   "cell_type": "markdown",
   "id": "ce0cb1c9",
   "metadata": {},
   "source": [
    "blog가 아닌 url은 iframe 및 태그 정보가 달라 탐색에서 제외합니다.   \n",
    "개수 또한 기존 1022개의 데이터 중 10개 정도 해당하기 때문에 제외하여도 결과에 미치는 영향은 미미할 것입니다."
   ]
  },
  {
   "cell_type": "code",
   "execution_count": null,
   "id": "87d56822",
   "metadata": {
    "scrolled": true
   },
   "outputs": [],
   "source": [
    "from selenium import webdriver\n",
    "from selenium.webdriver.common.keys import Keys\n",
    "import time\n",
    "import datetime\n",
    "import requests\n",
    "\n",
    "driver_path = './driver/chromedriver'\n",
    "driver = webdriver.Chrome(executable_path=driver_path)\n",
    "\n",
    "blog_text = []\n",
    "for i in range(len(blog_url)):\n",
    "    name = blog_url.loc[i][1]\n",
    "    url = blog_url.loc[i][2]\n",
    "\n",
    "    page_type = 'none'\n",
    "    if not 'blog' in url:\n",
    "        continue\n",
    "    \n",
    "    driver.get(url)\n",
    "    time.sleep(3)\n",
    "\n",
    "    # frame 전환\n",
    "    search_frame = driver.find_element_by_id('mainFrame')\n",
    "    driver.switch_to.frame(search_frame)\n",
    "    \n",
    "    btxt = driver.find_element_by_id('post_1').text\n",
    "\n",
    "    blog_text.append([name, btxt])"
   ]
  },
  {
   "cell_type": "markdown",
   "id": "ea396ccf",
   "metadata": {},
   "source": [
    "장소의 이름과 해당 장소에 대한 모든 blog의 text들을 가져왔습니다.   \n",
    "이를 DB에 저장하기 전 불필요한 앞부분과 뒷부분들을 제거합니다."
   ]
  },
  {
   "cell_type": "code",
   "execution_count": null,
   "id": "a636ebbb",
   "metadata": {},
   "outputs": [],
   "source": [
    "blog_text"
   ]
  },
  {
   "cell_type": "markdown",
   "id": "a6d94588",
   "metadata": {},
   "source": [
    "먼저 text를 보면 이웃추가가 반복되는 것으로 보입니다.   \n",
    "이를 기준으로 모든 text에서 동일한 패턴이 있는지 확인합니다."
   ]
  },
  {
   "cell_type": "code",
   "execution_count": null,
   "id": "7bc21dcb",
   "metadata": {},
   "outputs": [],
   "source": [
    "no_with = []\n",
    "for per in blog_text:\n",
    "    if not '이웃추가' in per:\n",
    "        no_with.append(per)\n",
    "len(no_with)"
   ]
  },
  {
   "cell_type": "code",
   "execution_count": null,
   "id": "f1870e3e",
   "metadata": {},
   "outputs": [],
   "source": [
    "cnt = 0\n",
    "for per in no_with:\n",
    "    if not '지도로 보기' in per:\n",
    "        cnt = cnt + 1\n",
    "cnt"
   ]
  },
  {
   "cell_type": "markdown",
   "id": "b099e23f",
   "metadata": {},
   "source": [
    "탐색 결과 blog에서 가져온 text들은 '이웃추가'가 상단에 없는 text도 있어, 대신 '지도로 보기'로 탐색하니 모든 경우를 고려하게 됩니다.   \n",
    "'이웃추가'와 '지도로 보기'를 이용해 blog 데이터에서 필요없는 앞 부분을 제거합니다."
   ]
  },
  {
   "cell_type": "code",
   "execution_count": null,
   "id": "30638f33",
   "metadata": {},
   "outputs": [],
   "source": [
    "tt[0].find('지도로 보기')\n",
    "# # 지도로 보기는 6글자이므로 위 결과에 +7이 시작 부분\n",
    "# 95이면 102부터\n",
    "\n",
    "tt[1].find('이웃추가')\n",
    "# 이웃추가는 4글자이므로 +4가 시작 부분\n",
    "# 55이면 59부터"
   ]
  },
  {
   "cell_type": "markdown",
   "id": "56259748",
   "metadata": {},
   "source": [
    "불필요한 뒷부분은 주로 검색을 위한 태그로 시작되는 것으로 보여 이를 기준으로 제거합니다."
   ]
  },
  {
   "cell_type": "code",
   "execution_count": null,
   "id": "c3f8a13d",
   "metadata": {},
   "outputs": [],
   "source": [
    "import re\n",
    "\n",
    "# 정규표현식으로 마지막 태그 이후 부분을 모두 제거\n",
    "m = re.findall(r'[#]\\w+', tt[10])\n",
    "ff = tt[10].find(m[0])\n",
    "tt[10][ff:ff+1000]"
   ]
  },
  {
   "cell_type": "markdown",
   "id": "964e71c7",
   "metadata": {},
   "source": [
    "마무리로 text에서 불필요한 문자들(줄넘김 등)을 제거합니다."
   ]
  },
  {
   "cell_type": "code",
   "execution_count": null,
   "id": "22026513",
   "metadata": {},
   "outputs": [],
   "source": []
  },
  {
   "cell_type": "markdown",
   "id": "659f4662",
   "metadata": {},
   "source": [
    "전처리한 blog 리뷰 데이터들을 DB에 저장합니다."
   ]
  },
  {
   "cell_type": "code",
   "execution_count": null,
   "id": "5ac0d905",
   "metadata": {},
   "outputs": [],
   "source": [
    "conn = sqlite3.connect('./navermap_search_result.db')\n",
    "blog_text.to_sql('blog_info_table', conn, chunksize=1000)\n",
    "conn.commit()\n",
    "conn.close()"
   ]
  },
  {
   "cell_type": "markdown",
   "id": "2cde3b3b",
   "metadata": {},
   "source": [
    "DB에 저장이 잘 되었는지 확인합니다."
   ]
  },
  {
   "cell_type": "code",
   "execution_count": null,
   "id": "0e29e028",
   "metadata": {},
   "outputs": [],
   "source": [
    "conn = sqlite3.connect('./navermap_search_result.db')\n",
    "blog = pd.read_sql('select * from blog_info_table', conn)\n",
    "conn.commit()\n",
    "conn.close()"
   ]
  }
 ],
 "metadata": {
  "kernelspec": {
   "display_name": "Python 3 (ipykernel)",
   "language": "python",
   "name": "python3"
  },
  "language_info": {
   "codemirror_mode": {
    "name": "ipython",
    "version": 3
   },
   "file_extension": ".py",
   "mimetype": "text/x-python",
   "name": "python",
   "nbconvert_exporter": "python",
   "pygments_lexer": "ipython3",
   "version": "3.9.7"
  }
 },
 "nbformat": 4,
 "nbformat_minor": 5
}
